{
 "cells": [
  {
   "cell_type": "markdown",
   "metadata": {},
   "source": [
    "# Harris Corner Detection"
   ]
  },
  {
   "cell_type": "code",
   "execution_count": 1,
   "metadata": {},
   "outputs": [],
   "source": [
    "from skimage import data, io, filters\n",
    "import scipy as sp\n",
    "import numpy as np\n",
    "import cv2"
   ]
  },
  {
   "cell_type": "markdown",
   "metadata": {},
   "source": [
    "## Gaussian Smooth"
   ]
  },
  {
   "cell_type": "code",
   "execution_count": 2,
   "metadata": {},
   "outputs": [
    {
     "data": {
      "text/plain": [
       "<Figure size 640x480 with 1 Axes>"
      ]
     },
     "metadata": {},
     "output_type": "display_data"
    }
   ],
   "source": [
    "# image = data.camera()\n",
    "image = io.imread('original.jpg')\n",
    "io.imshow(image)\n",
    "io.show()"
   ]
  },
  {
   "cell_type": "code",
   "execution_count": 3,
   "metadata": {},
   "outputs": [],
   "source": [
    "def gaussian_kernel(window_size, sigma):\n",
    "    N = (window_size + 1) // 2\n",
    "\n",
    "    rhalf_kernel = np.zeros((N,))\n",
    "    \n",
    "    for i in range(N):\n",
    "        x_n = i / sigma\n",
    "        rhalf_kernel[i] = np.exp(-0.5 * x_n * x_n)\n",
    "\n",
    "    if window_size % 2 == 0:\n",
    "        lhalf_kernel = np.flip(rhalf_kernel)\n",
    "    else:\n",
    "        lhalf_kernel = np.flip(rhalf_kernel[1:])\n",
    "        \n",
    "    kernel = np.concatenate([lhalf_kernel, rhalf_kernel])\n",
    "    \n",
    "    kernel /= sum(kernel)\n",
    "    \n",
    "    return kernel"
   ]
  },
  {
   "cell_type": "code",
   "execution_count": 4,
   "metadata": {},
   "outputs": [],
   "source": [
    "def gaussian_smooth(img, k, sigma):\n",
    "    kernel = gaussian_kernel(k, sigma)\n",
    "    \n",
    "    image = img\n",
    "\n",
    "    for j in range(3):\n",
    "        layer = image[:,:,j]\n",
    "\n",
    "        m = layer.shape[1]\n",
    "        for i in range(m):\n",
    "            layer[i,:] = np.convolve(layer[i,:], kernel, mode='same')\n",
    "\n",
    "        n = image.shape[0]\n",
    "        for i in range(n):\n",
    "            layer[:,i] = np.convolve(layer[:,i], kernel, mode='same')\n",
    "        \n",
    "        image[:,:,j] = layer\n",
    "    \n",
    "    return image"
   ]
  },
  {
   "cell_type": "markdown",
   "metadata": {},
   "source": [
    "## Sobel Edge Detection"
   ]
  },
  {
   "cell_type": "code",
   "execution_count": null,
   "metadata": {},
   "outputs": [],
   "source": []
  }
 ],
 "metadata": {
  "kernelspec": {
   "display_name": "Python3 (cvcourse)",
   "language": "python",
   "name": "cvcourse-_m1tkoz7"
  },
  "language_info": {
   "codemirror_mode": {
    "name": "ipython",
    "version": 3
   },
   "file_extension": ".py",
   "mimetype": "text/x-python",
   "name": "python",
   "nbconvert_exporter": "python",
   "pygments_lexer": "ipython3",
   "version": "3.7.4"
  }
 },
 "nbformat": 4,
 "nbformat_minor": 2
}
