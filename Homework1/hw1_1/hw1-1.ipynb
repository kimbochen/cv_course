{
 "cells": [
  {
   "cell_type": "markdown",
   "metadata": {},
   "source": [
    "# Harris Corner Detection"
   ]
  },
  {
   "cell_type": "code",
   "execution_count": null,
   "metadata": {},
   "outputs": [],
   "source": [
    "import matplotlib.pyplot as plt\n",
    "import numpy as np\n",
    "import cv2 as cv\n",
    "\n",
    "from scipy import ndimage as ndi\n",
    "from scipy import signal as sig\n",
    "from skimage import transform as tfm\n",
    "from skimage import io\n",
    "from skimage import util\n",
    "from skimage import color"
   ]
  },
  {
   "cell_type": "code",
   "execution_count": null,
   "metadata": {},
   "outputs": [],
   "source": [
    "img = io.imread('original.jpg')\n",
    "img = util.img_as_float(img)\n",
    "img = color.rgb2gray(img)"
   ]
  },
  {
   "cell_type": "markdown",
   "metadata": {},
   "source": [
    "## Gaussian Smooth\n",
    "\n",
    "### Gaussian Kernel\n",
    "1. Generate a 1D grid using `np.arange()` with the given size and expand into 2D using `np.meshgrid`.\n",
    "2. For each element calculate Gaussian function with given sigma.\n",
    "3. Because of normalization, the coefficient in the Gaussian function is omitted."
   ]
  },
  {
   "cell_type": "code",
   "execution_count": null,
   "metadata": {},
   "outputs": [],
   "source": [
    "def gaussian_kernel(size, sigma):\n",
    "    '''Returns a Gaussian kernel with specific size and sigma.'''\n",
    "    \n",
    "    # Generate grids of size 'size'\n",
    "    shift = size // 2\n",
    "    grid = np.arange(size) - shift\n",
    "    x, y = np.meshgrid(grid, grid)\n",
    "\n",
    "    # Coefficient 1 / (2 * np.pi ** 2) is omitted\n",
    "    g = np.exp(-(x ** 2 + y ** 2) / (2 * sigma ** 2))\n",
    "    \n",
    "    # Normalization\n",
    "    g = g / g.sum()\n",
    "    \n",
    "    return g"
   ]
  },
  {
   "cell_type": "markdown",
   "metadata": {},
   "source": [
    "### Smoothing\n",
    "* Perform 2D convolution on the image using the kernel."
   ]
  },
  {
   "cell_type": "code",
   "execution_count": null,
   "metadata": {},
   "outputs": [],
   "source": [
    "def gaussian_smooth(img, size, sigma):\n",
    "    '''Performs Gaussian smooth on given image.'''\n",
    "    \n",
    "    # Get Gaussian kernel\n",
    "    kernel = gaussian_kernel(size, sigma)\n",
    "\n",
    "    # Perform 2D convolution\n",
    "    output = ndi.convolve(img, kernel)\n",
    "\n",
    "    return output"
   ]
  },
  {
   "cell_type": "code",
   "execution_count": null,
   "metadata": {},
   "outputs": [],
   "source": [
    "fig, ax = plt.subplots(1, 3, figsize=(15, 15))\n",
    "\n",
    "# Original\n",
    "ax[0].imshow(img, cmap='gray')\n",
    "\n",
    "# Gaussian smooth, kernel size = 5\n",
    "gs_5 = gaussian_smooth(img, 5, 5)\n",
    "ax[1].imshow(gs_5, cmap='gray')\n",
    "\n",
    "# Gaussian smooth, kernel size = 10\n",
    "gs_10 = gaussian_smooth(img, 10, 5)\n",
    "ax[2].imshow(gs_10, cmap='gray')\n",
    "\n",
    "plt.show()"
   ]
  },
  {
   "cell_type": "markdown",
   "metadata": {},
   "source": [
    "## Sobel Edge Detection\n",
    "\n",
    "### Sobel Operator\n",
    "1. Initialize the kernels of datatype `np.float32`.\n",
    "2. Perform 2D convolution on the given image using the two kernels."
   ]
  },
  {
   "cell_type": "code",
   "execution_count": null,
   "metadata": {},
   "outputs": [],
   "source": [
    "def sobel_operator(img):\n",
    "    '''Performs Sobel operator on given image and returns x and y component of gradients.'''\n",
    "    # Initialize kernels\n",
    "    kernel_x = np.float32([\n",
    "        [-1, 0, 1],\n",
    "        [-2, 0, 2],\n",
    "        [-1, 0, 1]\n",
    "    ]) / 8.0 \n",
    "    kernel_y = np.float32([\n",
    "        [-1, -2, -1], \n",
    "        [0, 0, 0], \n",
    "        [1, 2, 1]\n",
    "    ]) / 8.0\n",
    "\n",
    "    # Perform convolution\n",
    "    gx = sig.convolve2d(img, kernel_x, mode='same')\n",
    "    gy = sig.convolve2d(img, kernel_y, mode='same')\n",
    "    \n",
    "    return gx, gy"
   ]
  },
  {
   "cell_type": "markdown",
   "metadata": {},
   "source": [
    "### Edge Detection\n",
    "1. Perform Gaussian Smooth on the given image.\n",
    "2. Calculate the gradient components for every pixel in the image.\n",
    "3. Calculate the magnitude of the gradient of every pixel.\n",
    "4. Calculate the direction of the gradient of every pixel. The result is shown by HSV.\n",
    "    1. Set the hue as the gradient angle, which is calculated by `np.arctan2` then normalized.\n",
    "    2. Set the saturation as maximum = 1.\n",
    "    3. Set the value as the gradient magnitude, which is also normalized.\n",
    "    4. Convert the result into a HSV image."
   ]
  },
  {
   "cell_type": "code",
   "execution_count": null,
   "metadata": {},
   "outputs": [],
   "source": [
    "def sobel_edge_detection(img, size):\n",
    "    '''Performs Sobel Edge detection and returns the magnitude and direction of gradients.'''\n",
    "    # Gaussian Smooth\n",
    "    image = gaussian_smooth(img, size, 5)\n",
    "    \n",
    "    # Sobel Operator\n",
    "    gx, gy = sobel_operator(image)\n",
    "    \n",
    "    # Magnitude\n",
    "    mag = np.sqrt(gx ** 2 + gy ** 2)\n",
    "\n",
    "    # Direction\n",
    "    m, n = image.shape\n",
    "    hsv = np.zeros((m, n, 3))\n",
    "\n",
    "    hsv[:,:,0] = (np.arctan2(gy, gx) + np.pi) / (2 * np.pi)  # Hue: Gradient angle\n",
    "    hsv[:,:,1] = np.ones((m, n))                             # Saturation: Maximum, which is 1\n",
    "    hsv[:,:,2] = (mag - mag.min()) / (mag.max() - mag.min()) # Value: Gradient magnitude\n",
    "    dir_ = color.hsv2rgb(hsv)\n",
    "    \n",
    "    return [mag, dir_]"
   ]
  },
  {
   "cell_type": "code",
   "execution_count": null,
   "metadata": {},
   "outputs": [],
   "source": [
    "fig, ax = plt.subplots(2, 2, figsize=(15, 15))\n",
    "\n",
    "# Sobel edge detection, kernel size = 5\n",
    "sed = sobel_edge_detection(img, 5)\n",
    "ax[0, 0].imshow(sed[0], cmap='gray')\n",
    "ax[0, 1].imshow(sed[1])\n",
    "\n",
    "# Sobel edge detection, kernel size = 10\n",
    "sed = sobel_edge_detection(img, 10)\n",
    "ax[1, 0].imshow(sed[0], cmap='gray')\n",
    "ax[1, 1].imshow(sed[1])\n",
    "\n",
    "plt.show()"
   ]
  },
  {
   "cell_type": "markdown",
   "metadata": {},
   "source": [
    "## Structure Tensor\n",
    "1. Perform Sobel operator to get the gradient components of each pixel.\n",
    "2. Calculate \\$I_{xx}, I_{yy}, I_{xy}$ by doing convolution with a window of Gaussian function, \n",
    "   which happens to be a Gaussian smooth."
   ]
  },
  {
   "cell_type": "code",
   "execution_count": null,
   "metadata": {},
   "outputs": [],
   "source": [
    "def structure_tensor(img, size):\n",
    "    '''Returns the structure tensor for the given image.'''\n",
    "    # Sobel operator\n",
    "    gx, gy = sobel_operator(img)\n",
    "\n",
    "    # Compute structure tensor using Gaussian smooth\n",
    "    Ixx = gaussian_smooth(gx * gx, size, 5)\n",
    "    Iyy = gaussian_smooth(gy * gy, size, 5)\n",
    "    Ixy = gaussian_smooth(gx * gy, size, 5)\n",
    "    \n",
    "    # Computer structure tensor with convolution: result not as good\n",
    "    # window = np.ones((size, size))\n",
    "    # Ixx = sig.convolve2d(gx * gx, window, mode='same')\n",
    "    # Iyy = sig.convolve2d(gy * gy, window, mode='same')\n",
    "    # Ixy = sig.convolve2d(gx * gy, window, mode='same')\n",
    "\n",
    "    return Ixx, Iyy, Ixy"
   ]
  },
  {
   "cell_type": "markdown",
   "metadata": {},
   "source": [
    "## Non-Maximum Suppression\n",
    "1. Compute \\$I_{xx}, I_{yy}, I_{xy}$ using `structure_tensor()` with the given image and size.\n",
    "2. Calculate the determinant and the trace, which are then used to calculate the response function.\n",
    "3. Set two masks:\n",
    "    1. Threshold to suppress small values.\n",
    "    2. Local maximum using `ndi.maximum_filter()`.\n",
    "    3. Combine the two masks to find the wanted edges"
   ]
  },
  {
   "cell_type": "code",
   "execution_count": null,
   "metadata": {},
   "outputs": [],
   "source": [
    "def nms(img, size, ax):\n",
    "    '''Performs Non-Maximum Suppression on the given image and returns an image with corners marked up.'''\n",
    "    # Compute structure tensor\n",
    "    Ixx, Iyy, Ixy = structure_tensor(img, size)\n",
    "\n",
    "    # Compute response function\n",
    "    det = Ixx * Iyy - Ixy ** 2\n",
    "    trc = Ixx + Iyy\n",
    "    kappa = 0.04\n",
    "\n",
    "    R = det - kappa * trc * trc\n",
    "\n",
    "    # Non-Maximum suppression\n",
    "    threshold = (R > 5e-6)\n",
    "    local_max = (np.abs(R - ndi.maximum_filter(R, size=30)) < 1e-14)\n",
    "    mask = (threshold & local_max)\n",
    "\n",
    "    r, c = np.nonzero(mask)\n",
    "\n",
    "    # Plot figure\n",
    "    ax.imshow(img, cmap='gray')\n",
    "    ax.plot(c, r, 'r.', markersize=3)"
   ]
  },
  {
   "cell_type": "code",
   "execution_count": null,
   "metadata": {},
   "outputs": [],
   "source": [
    "fig, ax = plt.subplots(1, 2, figsize=(15, 15))\n",
    "\n",
    "# Non-Maximum Suppression with window size = 3\n",
    "nms(img, 3, ax[0])\n",
    "\n",
    "# Non-Maximum Suppression with window size = 30\n",
    "nms(img, 30, ax[1])\n",
    "\n",
    "plt.show()"
   ]
  },
  {
   "cell_type": "code",
   "execution_count": null,
   "metadata": {},
   "outputs": [],
   "source": [
    "fig, ax = plt.subplots(1, 3, figsize=(15, 15))\n",
    "\n",
    "# Original image\n",
    "nms(img, 30, ax[0])\n",
    "\n",
    "# Rotated 30 degrees\n",
    "nms(tfm.rotate(img, 30), 30, ax[1])\n",
    "\n",
    "# Rescale by 0.5\n",
    "rsc = tfm.rescale(img, 0.5, multichannel=False)\n",
    "\n",
    "# Zoom in to part of the image\n",
    "qm = rsc.shape[0] // 4\n",
    "qn = rsc.shape[1] // 4\n",
    "\n",
    "nms(rsc[qm:3 * qm, qn:3 * qn], 30, ax[2])\n",
    "\n",
    "plt.show()"
   ]
  }
 ],
 "metadata": {
  "kernelspec": {
   "display_name": "Python3 (cv_course)",
   "language": "python",
   "name": "cv_course-6yf3rk_p"
  },
  "language_info": {
   "codemirror_mode": {
    "name": "ipython",
    "version": 3
   },
   "file_extension": ".py",
   "mimetype": "text/x-python",
   "name": "python",
   "nbconvert_exporter": "python",
   "pygments_lexer": "ipython3",
   "version": "3.7.4"
  }
 },
 "nbformat": 4,
 "nbformat_minor": 4
}
