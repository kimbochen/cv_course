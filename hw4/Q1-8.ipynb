{
  "nbformat": 4,
  "nbformat_minor": 0,
  "metadata": {
    "colab": {
      "name": "Q1-8.ipynb",
      "provenance": [],
      "collapsed_sections": [
        "nQt3IXA0_cRT",
        "9BtKvRbG5gQM"
      ]
    },
    "kernelspec": {
      "name": "python3",
      "display_name": "Python 3"
    },
    "accelerator": "GPU"
  },
  "cells": [
    {
      "cell_type": "markdown",
      "metadata": {
        "id": "4_COc4Lxo1gQ",
        "colab_type": "text"
      },
      "source": [
        "# Homework 4-1: Transfer Learning in CNN"
      ]
    },
    {
      "cell_type": "markdown",
      "metadata": {
        "id": "KWC0_afRI0VM",
        "colab_type": "text"
      },
      "source": [
        "## Initialization"
      ]
    },
    {
      "cell_type": "code",
      "metadata": {
        "id": "CVBuO7v5pN_o",
        "colab_type": "code",
        "colab": {}
      },
      "source": [
        "import gdown\n",
        "\n",
        "!gdown https://drive.google.com/uc?id=1URM63okiWqDsOxMO_JCch1YHCq5Pg3tO\n",
        "!unzip -nq *.zip\n",
        "!ls --hide=heavy_makeup_CelebA | xargs rm -r\n",
        "\n",
        "%cd heavy_makeup_CelebA/\n",
        "!wget -nc https://raw.githubusercontent.com/4uiiurz1/pytorch-auto-augment/master/auto_augment.py\n",
        "\n",
        "!ls"
      ],
      "execution_count": 0,
      "outputs": []
    },
    {
      "cell_type": "code",
      "metadata": {
        "id": "NCmzcH9siOTH",
        "colab_type": "code",
        "colab": {}
      },
      "source": [
        "from __future__ import print_function, division\n",
        "\n",
        "import torch\n",
        "import torch.nn as nn\n",
        "import torch.optim as optim\n",
        "from torch.optim import lr_scheduler\n",
        "import numpy as np\n",
        "import torchvision\n",
        "from torchvision import datasets, models, transforms\n",
        "import matplotlib.pyplot as plt\n",
        "import time\n",
        "import os\n",
        "import copy\n",
        "from auto_augment import AutoAugment, Cutout\n",
        "\n",
        "plt.ion()  # interactive mode\n",
        "\n",
        "# Specify the seed, expected reproducibility but in vain\n",
        "seed = 309\n",
        "os.environ['PYTHONHASHSEED'] = str(seed)\n",
        "np.random.seed(seed)\n",
        "torch.manual_seed(seed)\n",
        "torch.backends.cudnn.deterministic = True\n",
        "torch.backends.cudnn.benchmark = False"
      ],
      "execution_count": 0,
      "outputs": []
    },
    {
      "cell_type": "markdown",
      "metadata": {
        "id": "loNdwZrRI33m",
        "colab_type": "text"
      },
      "source": [
        "## Data Augmentation"
      ]
    },
    {
      "cell_type": "code",
      "metadata": {
        "id": "RTZrF2PdjPcU",
        "colab_type": "code",
        "colab": {}
      },
      "source": [
        "## Please try to adjust data augmentation strategy here\n",
        "data_transforms = {\n",
        "    'train': transforms.Compose([\n",
        "        transforms.ColorJitter(brightness=.04, contrast=.04,\n",
        "                               saturation=.04, hue=.04),\n",
        "        transforms.RandomResizedCrop(224, scale=(0.75, 1.0)),\n",
        "        transforms.RandomHorizontalFlip(),\n",
        "        AutoAugment(),\n",
        "        Cutout(),\n",
        "        transforms.ToTensor(),\n",
        "        transforms.Normalize([0.485, 0.456, 0.406], [0.229, 0.224, 0.225])\n",
        "    ]),\n",
        "    'val': transforms.Compose([\n",
        "        transforms.Resize(256),\n",
        "        transforms.CenterCrop(224),\n",
        "        transforms.ToTensor(),\n",
        "        transforms.Normalize([0.485, 0.456, 0.406], [0.229, 0.224, 0.225])\n",
        "    ]),\n",
        "}\n",
        "\n",
        "# the directory of your data in Google Drive\n",
        "# data_dir = '/content/drive/My Drive/heavy_makeup_CelebA'\n",
        "data_dir = '/content/heavy_makeup_CelebA'\n",
        "\n",
        "image_datasets = {\n",
        "    x: datasets.ImageFolder(os.path.join(data_dir, x), data_transforms[x]) \n",
        "    for x in ['train', 'val']\n",
        "}\n",
        "\n",
        "dataloaders = {\n",
        "    x: torch.utils.data.DataLoader(image_datasets[x], batch_size=4,\n",
        "                                   shuffle=True, num_workers=4)\n",
        "    for x in ['train', 'val']\n",
        "}\n",
        "\n",
        "dataset_sizes = {x: len(image_datasets[x]) for x in ['train', 'val']}\n",
        "\n",
        "class_names = image_datasets['train'].classes\n",
        "\n",
        "#print(torch.cuda.is_available())\n",
        "device = torch.device('cuda:0' if torch.cuda.is_available() else 'cpu')\n",
        "\n",
        "dataloaders = {\n",
        "    x: torch.utils.data.DataLoader(image_datasets[x], batch_size=4, \n",
        "                                   shuffle=True, num_workers=4)\n",
        "    for x in ['train', 'val']\n",
        "}"
      ],
      "execution_count": 0,
      "outputs": []
    },
    {
      "cell_type": "markdown",
      "metadata": {
        "id": "69P-kXNr46dQ",
        "colab_type": "text"
      },
      "source": [
        "Let's show some training data. Make sure the lables match the images"
      ]
    },
    {
      "cell_type": "code",
      "metadata": {
        "id": "QxL65Tiole9n",
        "colab_type": "code",
        "colab": {}
      },
      "source": [
        "def imshow(inp, title=None):\n",
        "    \"\"\"Imshow for Tensor.\"\"\"\n",
        "    inp = inp.numpy().transpose((1, 2, 0))\n",
        "    mean = np.array([0.485, 0.456, 0.406])\n",
        "    std = np.array([0.229, 0.224, 0.225])\n",
        "    inp = std * inp + mean\n",
        "    inp = np.clip(inp, 0, 1)\n",
        "    plt.imshow(inp)\n",
        "    if title is not None:\n",
        "        plt.title(title)\n",
        "    plt.pause(0.001)  # pause a bit so that plots are updated\n",
        "\n",
        "\n",
        "# Get a batch of training data\n",
        "inputs, classes = next(iter(dataloaders['train']))\n",
        "\n",
        "# Make a grid from batch\n",
        "out = torchvision.utils.make_grid(inputs)\n",
        "\n",
        "imshow(out, title=[class_names[x] for x in classes])"
      ],
      "execution_count": 0,
      "outputs": []
    },
    {
      "cell_type": "markdown",
      "metadata": {
        "id": "pJkOaVv9lwJa",
        "colab_type": "text"
      },
      "source": [
        "## Training the model\n",
        "Now, let’s write a general function to train a model. Here, we will illustrate:\n",
        "\n",
        "1. Scheduling the learning rate\n",
        "2. Saving the best model\n",
        "\n",
        "In the following, parameter scheduler is an LR scheduler object from torch.optim.lr_scheduler."
      ]
    },
    {
      "cell_type": "code",
      "metadata": {
        "id": "Z6RZDPY6lxoS",
        "colab_type": "code",
        "colab": {}
      },
      "source": [
        "def train_model(model, criterion, optimizer, scheduler, num_epochs=25):\n",
        "    since = time.time()\n",
        "\n",
        "    best_model_wts = copy.deepcopy(model.state_dict())\n",
        "    best_acc = 0.0\n",
        "\n",
        "    for epoch in range(num_epochs):\n",
        "        print('-' * 10)\n",
        "        print(f'Epoch {epoch}/{num_epochs - 1}')\n",
        "\n",
        "        # Each epoch has a training and validation phase\n",
        "        for phase in ['train', 'val']:\n",
        "            if phase == 'train':\n",
        "                model.train()  # Set model to training mode\n",
        "            else:\n",
        "                model.eval()   # Set model to evaluate mode\n",
        "\n",
        "            running_loss = 0.0\n",
        "            running_corrects = 0\n",
        "\n",
        "            # Iterate over data.\n",
        "            for inputs, labels in dataloaders[phase]:\n",
        "                inputs = inputs.to(device)\n",
        "                labels = labels.to(device)\n",
        "\n",
        "                # zero the parameter gradients\n",
        "                optimizer.zero_grad()\n",
        "\n",
        "                # forward\n",
        "                # track history if only in train\n",
        "                with torch.set_grad_enabled(phase == 'train'):\n",
        "                    outputs = model(inputs)\n",
        "                    _, preds = torch.max(outputs, 1)\n",
        "                    loss = criterion(outputs, labels)\n",
        "\n",
        "                    # backward + optimize only if in training phase\n",
        "                    if phase == 'train':\n",
        "                        loss.backward()\n",
        "                        optimizer.step()\n",
        "\n",
        "                # statistics\n",
        "                running_loss += loss.item() * inputs.size(0)                            \n",
        "                running_corrects += torch.sum(preds == labels.data)\n",
        "            if phase == 'train':\n",
        "                scheduler.step()\n",
        "\n",
        "            epoch_loss = running_loss / dataset_sizes[phase]\n",
        "            epoch_acc = running_corrects.double() / dataset_sizes[phase]\n",
        "\n",
        "            print(f'{phase} Loss: {epoch_loss:.4f} Acc: {epoch_acc:.4f}')\n",
        "\n",
        "            # deep copy the model\n",
        "            if phase == 'val' and epoch_acc > best_acc:\n",
        "                best_acc = epoch_acc\n",
        "                best_model_wts = copy.deepcopy(model.state_dict())\n",
        "\n",
        "        epoch_t = time.time() - since\n",
        "        print(f'Accumulated Time: {epoch_t // 60:.0f}m {epoch_t % 60:.0f}s')\n",
        "\n",
        "    print('-' * 10)\n",
        "    time_elapsed = time.time() - since\n",
        "    print('Training complete in {:.0f}m {:.0f}s'.format(\n",
        "        time_elapsed // 60, time_elapsed % 60))\n",
        "    print(f'Best val Acc: {best_acc:4f}')\n",
        "\n",
        "    # load best model weights\n",
        "    model.load_state_dict(best_model_wts)\n",
        "    return model"
      ],
      "execution_count": 0,
      "outputs": []
    },
    {
      "cell_type": "markdown",
      "metadata": {
        "id": "nQt3IXA0_cRT",
        "colab_type": "text"
      },
      "source": [
        "## Case 1: using ConvNet as fixed feature extractor\n",
        "\n",
        "Here, we need to freeze all the network except the final layer. We need to set `requires_grad == False` to freeze the parameters so that the gradients are not computed in `backward()`.\n",
        "\n",
        "You can read more about this in the documentation here."
      ]
    },
    {
      "cell_type": "code",
      "metadata": {
        "id": "WkcOdA4o_gzh",
        "colab_type": "code",
        "colab": {}
      },
      "source": [
        "model_conv = models.alexnet(pretrained=True)\n",
        "for param in model_conv.parameters():\n",
        "    param.requires_grad = False\n",
        "# Parameters of newly constructed modules have requires_grad=True by default\n",
        "\n",
        "# remove the last layer (4096x1000)\n",
        "model_conv.classifier = nn.Sequential(*[model_conv.classifier[i]\n",
        "                                        for i in range(6)])\n",
        "addition_fc = nn.Linear(4096, 2)  # the layer to be stacked\n",
        "model_conv.classifier = nn.Sequential(model_conv.classifier,addition_fc)\n",
        "model_conv = model_conv.to(device)\n",
        "\n",
        "criterion = nn.CrossEntropyLoss()\n",
        "\n",
        "# Observe that only parameters of final layer are being optimized\n",
        "# as opposed to before.\n",
        "optimizer_conv = optim.SGD(model_conv.parameters(), lr=0.001, momentum=0.9)\n",
        "\n",
        "# Decay LR by a factor of 0.1 every 7 epochs\n",
        "exp_lr_scheduler = lr_scheduler.StepLR(optimizer_conv, step_size=5, gamma=0.1)"
      ],
      "execution_count": 0,
      "outputs": []
    },
    {
      "cell_type": "markdown",
      "metadata": {
        "id": "ASUNHxIrVQjX",
        "colab_type": "text"
      },
      "source": [
        "Let's train the model as a feature extractor"
      ]
    },
    {
      "cell_type": "code",
      "metadata": {
        "id": "IpNyOhSM_llg",
        "colab_type": "code",
        "colab": {}
      },
      "source": [
        "# model_conv = train_model(model_conv, criterion, optimizer_conv,\n",
        "#                          exp_lr_scheduler, num_epochs=25)"
      ],
      "execution_count": 0,
      "outputs": []
    },
    {
      "cell_type": "markdown",
      "metadata": {
        "id": "TQSHmLcdmgpf",
        "colab_type": "text"
      },
      "source": [
        "## Case 2: Finetuning the convnet\n",
        "Load a pretrained model and reset final fully connected layer."
      ]
    },
    {
      "cell_type": "code",
      "metadata": {
        "id": "4TwcHLSKmi03",
        "colab_type": "code",
        "colab": {}
      },
      "source": [
        "model_ft = torch.hub.load('rwightman/gen-efficientnet-pytorch',\n",
        "                          'efficientnet_b2', pretrained=True)\n",
        "model_ft.classifier = nn.Sequential(model_ft.classifier,nn.Linear(1000, 2))\n",
        "model_ft = model_ft.to(device)\n",
        "\n",
        "criterion = nn.CrossEntropyLoss()\n",
        "\n",
        "# Observe that all parameters are being optimized\n",
        "optimizer_ft = optim.Adam(model_ft.parameters(), lr=0.001)\n",
        "\n",
        "# step size could be\n",
        "exp_lr_scheduler = lr_scheduler.StepLR(optimizer_ft, step_size=5, gamma=0.1)"
      ],
      "execution_count": 0,
      "outputs": []
    },
    {
      "cell_type": "markdown",
      "metadata": {
        "id": "dI6yUHZrmqtd",
        "colab_type": "text"
      },
      "source": [
        "Train and evaluate\n",
        "It should take around 15-25 min on CPU. On GPU though, it takes less than 5 minutes."
      ]
    },
    {
      "cell_type": "code",
      "metadata": {
        "id": "Tp07ugkXms8l",
        "colab_type": "code",
        "colab": {}
      },
      "source": [
        "model_ft = train_model(model_ft, criterion, optimizer_ft, exp_lr_scheduler, num_epochs=15)"
      ],
      "execution_count": 0,
      "outputs": []
    },
    {
      "cell_type": "markdown",
      "metadata": {
        "id": "9BtKvRbG5gQM",
        "colab_type": "text"
      },
      "source": [
        "## Case 3: Non-pretrained AlexNet"
      ]
    },
    {
      "cell_type": "code",
      "metadata": {
        "id": "fnFSaIqtxjvF",
        "colab_type": "code",
        "colab": {}
      },
      "source": [
        "model_ft = models.alexnet(pretrained=False)\n",
        "mode_ft = model_ft.to('cuda')\n",
        "\n",
        "criterion = nn.CrossEntropyLoss()\n",
        "optimizer_ft = optim.SGD(model_ft.parameters(), lr=0.001, momentum=0.9)\n",
        "exp_lr_scheduler = lr_scheduler.StepLR(optimizer_ft, step_size=5, gamma=0.1)\n",
        "\n",
        "# model_ft = train_model(model_ft,criterion, optimizer_ft,\n",
        "#                        exp_lr_scheduler, num_epochs=25)"
      ],
      "execution_count": 0,
      "outputs": []
    },
    {
      "cell_type": "markdown",
      "metadata": {
        "id": "_OU2kGYPmUGz",
        "colab_type": "text"
      },
      "source": [
        "## Visualizing the model predictions\n",
        "Generic function to display predictions for a few images"
      ]
    },
    {
      "cell_type": "code",
      "metadata": {
        "id": "G3u5SQux51pH",
        "colab_type": "code",
        "colab": {}
      },
      "source": [
        "def visualize_model(model, num_images=6):\n",
        "    was_training = model.training\n",
        "    model.eval()\n",
        "    images_so_far = 0\n",
        "    fig = plt.figure()\n",
        "\n",
        "    with torch.no_grad():\n",
        "        for i, (inputs, labels) in enumerate(dataloaders['val']):\n",
        "            inputs = inputs.to(device)\n",
        "            labels = labels.to(device)\n",
        "\n",
        "            outputs = model(inputs)\n",
        "            _, preds = torch.max(outputs, 1)\n",
        "\n",
        "            for j in range(inputs.size()[0]):\n",
        "                images_so_far += 1\n",
        "                ax = plt.subplot(num_images//2, 2, images_so_far)\n",
        "                ax.axis('off')\n",
        "                ax.set_title('predicted: {}'.format(class_names[preds[j]]))\n",
        "                imshow(inputs.cpu().data[j])\n",
        "\n",
        "                if images_so_far == num_images:\n",
        "                    model.train(mode=was_training)\n",
        "                    return\n",
        "        model.train(mode=was_training)\n",
        "        \n",
        "visualize_model(model_ft)"
      ],
      "execution_count": 0,
      "outputs": []
    }
  ]
}