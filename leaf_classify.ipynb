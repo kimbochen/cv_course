{
  "nbformat": 4,
  "nbformat_minor": 0,
  "metadata": {
    "colab": {
      "name": "leaf_classify.ipynb",
      "provenance": [],
      "collapsed_sections": [],
      "authorship_tag": "ABX9TyMN4sxR8NKdcgX5+XpeKxLt",
      "include_colab_link": true
    },
    "kernelspec": {
      "name": "python3",
      "display_name": "Python 3"
    },
    "accelerator": "GPU"
  },
  "cells": [
    {
      "cell_type": "markdown",
      "metadata": {
        "id": "view-in-github",
        "colab_type": "text"
      },
      "source": [
        "<a href=\"https://colab.research.google.com/github/kmachina/cv_course/blob/master/leaf_classify.ipynb\" target=\"_parent\"><img src=\"https://colab.research.google.com/assets/colab-badge.svg\" alt=\"Open In Colab\"/></a>"
      ]
    },
    {
      "cell_type": "code",
      "metadata": {
        "id": "WqHqoHL6i4Ny",
        "colab_type": "code",
        "colab": {}
      },
      "source": [
        "import os\n",
        "\n",
        "os.environ['KAGGLE_USERNAME'] = 'kimbochen'\n",
        "os.environ['KAGGLE_KEY'] = 'fcc31da31010e0b78a38e936d060dd8f'\n",
        "CONTEST_NAME = 'leaf-classification'\n",
        "\n",
        "!pip install --upgrade --force-reinstall --no-deps --quiet kaggle\n",
        "!kaggle competitions download -q -c {CONTEST_NAME}\n",
        "!unzip {CONTEST_NAME}.zip && rm -f {CONTEST_NAME}.zip\n",
        "!unzip -q '*.zip' && rm -f *.zip"
      ],
      "execution_count": 0,
      "outputs": []
    },
    {
      "cell_type": "code",
      "metadata": {
        "id": "THVDoBFmhRaX",
        "colab_type": "code",
        "colab": {}
      },
      "source": [
        "from __future__ import print_function, division\n",
        "\n",
        "import torch\n",
        "from torch.utils.data import Dataset, DataLoader\n",
        "from torchvision import transforms\n",
        "from torchvision.datasets import ImageFolder\n",
        "\n",
        "from pathlib import Path\n",
        "from skimage import io\n",
        "import numpy as np\n",
        "import pandas as pd\n",
        "import matplotlib.pyplot as plt"
      ],
      "execution_count": 0,
      "outputs": []
    },
    {
      "cell_type": "code",
      "metadata": {
        "id": "T5DwfviQ-Ywg",
        "colab_type": "code",
        "colab": {}
      },
      "source": [
        "class LeafDataset(Dataset):\n",
        "    def __init__(self, dataframe, tsfrm=None):\n",
        "        self.df = dataframe\n",
        "        self.img_dir = Path('/content/images')\n",
        "        self.transforms = tsfrm\n",
        "\n",
        "    def __len__(self):\n",
        "        return len(self.df)\n",
        "\n",
        "    def __getitem__(self, idx):\n",
        "        img_name = self.img_dir / f'{train_df.index[0]}.jpg'\n",
        "        image = plt.imread(img_name)\n",
        "\n",
        "        if self.transforms is not None:\n",
        "            image = self.transforms(image)\n",
        "        \n",
        "        return image"
      ],
      "execution_count": 0,
      "outputs": []
    },
    {
      "cell_type": "code",
      "metadata": {
        "id": "Pbs_FGIABG-M",
        "colab_type": "code",
        "colab": {}
      },
      "source": [
        "def get_datasets():\n",
        "    raw_df = pd.read_csv('/content/train.csv', index_col='id')\n",
        "    raw_df = pd.get_dummies(raw_df, prefix='', prefix_sep='')\n",
        "\n",
        "    train_df = raw_df.sample(frac=0.8,random_state=0)\n",
        "    valid_df = raw_df.drop(train_df.index)\n",
        "    test_df = pd.read_csv('/content/test.csv', index_col='id')\n",
        "\n",
        "    train_ds = LeafDataset(train_df)\n",
        "    valid_ds = LeafDataset(valid_df)\n",
        "    test_ds = LeafDataset(test_df)\n",
        "\n",
        "    return train_ds, valid_ds, test_ds"
      ],
      "execution_count": 0,
      "outputs": []
    },
    {
      "cell_type": "code",
      "metadata": {
        "colab_type": "code",
        "id": "Rrs2mBmiL3Yq",
        "colab": {}
      },
      "source": [
        "def show_image(img):\n",
        "    fig, ax = plt.subplots()\n",
        "    ax.set_axis_off()\n",
        "    ax.imshow(img, cmap='binary')\n",
        "    plt.show()"
      ],
      "execution_count": 0,
      "outputs": []
    },
    {
      "cell_type": "code",
      "metadata": {
        "id": "pds5xXDXGkw1",
        "colab_type": "code",
        "colab": {
          "base_uri": "https://localhost:8080/",
          "height": 243
        },
        "outputId": "4fab20eb-de3d-439c-ba69-3d37b9fd2144"
      },
      "source": [
        "train_ds, valid_ds, test_ds = get_datasets()\n",
        "show_image(test_ds[0])"
      ],
      "execution_count": 113,
      "outputs": [
        {
          "output_type": "display_data",
          "data": {
            "image/png": "[encoded data removed]",
            "text/plain": [
              "<Figure size 432x288 with 1 Axes>"
            ]
          },
          "metadata": {
            "tags": []
          }
        }
      ]
    },
    {
      "cell_type": "code",
      "metadata": {
        "id": "t_qNVqpIHvWp",
        "colab_type": "code",
        "colab": {}
      },
      "source": [
        ""
      ],
      "execution_count": 0,
      "outputs": []
    }
  ]
}